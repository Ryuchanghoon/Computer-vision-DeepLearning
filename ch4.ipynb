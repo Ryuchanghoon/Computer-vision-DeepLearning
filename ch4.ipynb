{
 "cells": [
  {
   "cell_type": "code",
   "execution_count": 2,
   "metadata": {},
   "outputs": [],
   "source": [
    "import cv2\n",
    "import skimage\n",
    "import numpy as np\n",
    "import time"
   ]
  },
  {
   "cell_type": "code",
   "execution_count": 3,
   "metadata": {},
   "outputs": [],
   "source": [
    "img = cv2.imread('test_image/soccer.jpg')\n",
    "\n",
    "gray = cv2.cvtColor(img, cv2.COLOR_BGR2GRAY)\n",
    "\n",
    "grad_x = cv2.Sobel(gray, cv2.CV_32F, 1, 0, ksize = 3)\n",
    "grad_y = cv2.Sobel(gray, cv2.CV_32F, 0, 1, ksize = 3)\n",
    "\n",
    "sobel_x = cv2.convertScaleAbs(grad_x)\n",
    "sobel_y = cv2.convertScaleAbs(grad_y)\n",
    "\n",
    "edge_strength = cv2.addWeighted(sobel_x, 0.5, sobel_y, 0.5, 0) # addWeighted ==> sobel_x, sobel_y 가중치 값 합치기.\n",
    "\n",
    "cv2.imshow('Original', gray)\n",
    "cv2.imshow('sobel_x', sobel_x)\n",
    "cv2.imshow('sobel_y', sobel_y)\n",
    "cv2.imshow('edge strength', edge_strength)\n",
    "\n",
    "cv2.waitKey()\n",
    "cv2.destroyAllWindows()"
   ]
  },
  {
   "cell_type": "code",
   "execution_count": 4,
   "metadata": {},
   "outputs": [],
   "source": [
    "canny1 = cv2.Canny(gray, 50, 150)\n",
    "canny2 = cv2.Canny(gray, 100, 200)\n",
    "\n",
    "cv2.imshow('original', gray)\n",
    "cv2.imshow('canny1', canny1)\n",
    "cv2.imshow('canny2', canny2)\n",
    "\n",
    "cv2.waitKey()\n",
    "cv2.destroyAllWindows()"
   ]
  },
  {
   "cell_type": "code",
   "execution_count": 7,
   "metadata": {},
   "outputs": [],
   "source": [
    "canny = cv2.Canny(gray, 100, 200)\n",
    "\n",
    "contour, hierarchy = cv2.findContours(canny, cv2.RETR_LIST, cv2.CHAIN_APPROX_NONE) # CHAIN_APPROX_NONE 이 모든 점 기록.\n",
    "\n",
    "lcontour = []\n",
    "\n",
    "for i in range(len(contour)):\n",
    "    if contour[i].shape[0] > 100: # 길이 50 이상인 것만. # 갔다가 오는 거 기록해서 100으로.\n",
    "        lcontour.append(contour[i])\n",
    "\n",
    "\n",
    "cv2.drawContours(img, lcontour, -1, (0,255,0), 3)\n",
    "\n",
    "\n",
    "cv2.imshow('original with contours', img)\n",
    "cv2.imshow('canny', canny)\n",
    "\n",
    "cv2.waitKey()\n",
    "cv2.destroyAllWindows()"
   ]
  },
  {
   "cell_type": "code",
   "execution_count": 13,
   "metadata": {},
   "outputs": [],
   "source": [
    "### 허프 변환 활용 명암 원 검출\n",
    "\n",
    "img = cv2.imread('test_image/apples.jpg')\n",
    "gray = cv2.cvtColor(img, cv2.COLOR_BGR2GRAY)\n",
    "\n",
    "apples = cv2.HoughCircles(gray, cv2.HOUGH_GRADIENT, 1, 200, param1 = 150, param2 = 20, minRadius = 50, maxRadius = 120)\n",
    "## 검출된 원들 사이 최소거리(원 사이 최소거리)=200, canny edge 임계값 = 150, 투표 임계값 = 20, 원 최소 반지름 50, 최대 반지름 120\n",
    "\n",
    "\n",
    "for i in apples[0]:\n",
    "    cv2.circle(img, (int(i[0]), int(i[1])), int(i[2]), (255, 0, 0), 2)\n",
    "\n",
    "cv2.imshow('Apple detection', img)\n",
    "\n",
    "cv2.waitKey()\n",
    "cv2.destroyAllWindows()"
   ]
  },
  {
   "cell_type": "code",
   "execution_count": 16,
   "metadata": {},
   "outputs": [],
   "source": [
    "img = skimage.data.coffee()\n",
    "cv2.imshow('coffee image', cv2.cvtColor(img, cv2.COLOR_RGB2BGR))\n",
    "\n",
    "slic1 = skimage.segmentation.slic(img, compactness = 20, n_segments = 600) # compactness ==> 모양새 조절. 높음 높을수록 다각형 모양.\n",
    "### 높으면 높을 수록 색상 균일성 딱 안 좋아짐.\n",
    "sp_img1 = skimage.segmentation.mark_boundaries(img, slic1)\n",
    "sp_img1 = np.uint8(sp_img1 * 255.0)\n",
    "\n",
    "slic2 = skimage.segmentation.slic(img, compactness = 40, n_segments = 600)\n",
    "sp_img2 = skimage.segmentation.mark_boundaries(img, slic2)\n",
    "sp_img2 = np.uint8(sp_img2 * 255.0)\n",
    "\n",
    "cv2.imshow('super pixels (compact-20)', cv2.cvtColor(sp_img1, cv2.COLOR_RGB2BGR))\n",
    "cv2.imshow('Super pixels (compact-40)', cv2.cvtColor(sp_img2, cv2.COLOR_RGB2BGR))\n",
    "\n",
    "cv2.waitKey()\n",
    "cv2.destroyAllWindows()"
   ]
  },
  {
   "cell_type": "code",
   "execution_count": 24,
   "metadata": {},
   "outputs": [
    {
     "name": "stdout",
     "output_type": "stream",
     "text": [
      "(400, 600, 3) 분할하는데 걸리는 시간  6.349429368972778\n"
     ]
    }
   ],
   "source": [
    "coffee = skimage.data.coffee()\n",
    "\n",
    "start = time.time()\n",
    "slic = skimage.segmentation.slic(coffee, compactness = 20, n_segments = 600, start_label = 1)\n",
    "\n",
    "g = skimage.graph.rag_mean_color(coffee, slic, mode = 'similarity')\n",
    "ncut = skimage.graph.cut_normalized(slic, g) # ncut 사용 최적화.\n",
    "print(coffee.shape, '분할하는데 걸리는 시간 ', time.time() - start)\n",
    "\n",
    "marking = skimage.segmentation.mark_boundaries(coffee, ncut)\n",
    "ncut_coffee = np.uint8(marking * 255.0)\n",
    "\n",
    "cv2.imshow('normalized cut', cv2.cvtColor(ncut_coffee, cv2.COLOR_RGB2BGR))\n",
    "\n",
    "cv2.waitKey()\n",
    "cv2.destroyAllWindows()\n",
    "\n",
    "### 영역 분할 결과물 보면 스푼 쪽 좀 많이 요상함. 색상 단위로만 봐서 쫌 맛이 가 있음.\n",
    "# 그래서 딥러닝으로 갔다."
   ]
  },
  {
   "cell_type": "code",
   "execution_count": 5,
   "metadata": {},
   "outputs": [],
   "source": [
    "img = cv2.imread('test_image/soccer.jpg')\n",
    "img_show = np.copy(img)\n",
    "\n",
    "mask = np.zeros((img.shape[0], img.shape[1]), np.uint8) # 일단 전부 배경으로 초기화\n",
    "mask[:,:] = cv2.GC_PR_BGD\n",
    "\n",
    "BrushSiz = 9\n",
    "LColor, RColor = (255,0,0), (0,0,255)\n",
    "\n",
    "def painting(event, x, y, flags, param):\n",
    "    if event in [cv2.EVENT_LBUTTONDOWN, cv2.EVENT_MOUSEMOVE] and flags & cv2.EVENT_FLAG_LBUTTON:\n",
    "        cv2.circle(img_show, (x, y), BrushSiz, LColor, -1)\n",
    "        cv2.circle(mask, (x, y), BrushSiz, cv2.GC_FGD, -1)  # Foreground\n",
    "    elif event in [cv2.EVENT_RBUTTONDOWN, cv2.EVENT_MOUSEMOVE] and flags & cv2.EVENT_FLAG_RBUTTON:\n",
    "        cv2.circle(img_show, (x, y), BrushSiz, RColor, -1)\n",
    "        cv2.circle(mask, (x, y), BrushSiz, cv2.GC_BGD, -1)  # Background\n",
    "    cv2.imshow('Painting', img_show)\n",
    "\n",
    "cv2.namedWindow('Painting')\n",
    "cv2.setMouseCallback('Painting', painting)\n",
    "\n",
    "while True:\n",
    "    if cv2.waitKey(1) & 0xFF == ord('q'): \n",
    "        break\n",
    "\n",
    "background = np.zeros((1, 65), np.float64)\n",
    "foreground = np.zeros((1, 65), np.float64)\n",
    "\n",
    "cv2.grabCut(img, mask, None, background, foreground, 5, cv2.GC_INIT_WITH_MASK)\n",
    "\n",
    "mask2 = np.where((mask == cv2.GC_BGD) | (mask == cv2.GC_PR_BGD), 0, 1).astype('uint8')\n",
    "grab = img * mask2[:, :, np.newaxis]\n",
    "\n",
    "cv2.imshow('GrabCut Image', grab)\n",
    "cv2.waitKey()\n",
    "cv2.destroyAllWindows()"
   ]
  },
  {
   "cell_type": "code",
   "execution_count": 4,
   "metadata": {},
   "outputs": [
    {
     "name": "stdout",
     "output_type": "stream",
     "text": [
      "42390.0 187.72464024534088 144.43640402610677 2296.7291333675385 0.1009842680321435\n"
     ]
    }
   ],
   "source": [
    "orig = skimage.data.horse()\n",
    "img = 255 - np.uint8(orig) * 255\n",
    "\n",
    "cv2.imshow('Horse', img)\n",
    "\n",
    "contours, hierarchy = cv2.findContours(img, cv2.RETR_EXTERNAL, cv2.CHAIN_APPROX_NONE) # 경계선 추출\n",
    "\n",
    "img2 = cv2.cvtColor(img, cv2.COLOR_GRAY2BGR)\n",
    "cv2.drawContours(img2, contours, -1, (255, 0, 255), 2)\n",
    "cv2.imshow('Horse with contour', img2)\n",
    "\n",
    "\n",
    "contour = contours[0]\n",
    "m = cv2.moments(contour) # 윤곽선(contour) 기하학 특성 계산.\n",
    "area = cv2.contourArea(contour)\n",
    "cx, cy = m['m10'] / m['m00'], m['m01'] / m['m00'] # 중점 계산\n",
    "perimeter = cv2.arcLength(contour, True) # 둘레 길이 계산\n",
    "roundness = (4.0 * np.pi * area) / (perimeter * perimeter) # 둥근 정도 계산\n",
    "print(area, cx, cy, perimeter, roundness)\n",
    "\n",
    "img3 = cv2.cvtColor(img, cv2.COLOR_GRAY2BGR)\n",
    "contour_approx = cv2.approxPolyDP(contour, 8, True) # 경계선 직선으로, 임계값 8\n",
    "cv2.drawContours(img3, [contour_approx], -1, (0, 255, 0), 2)\n",
    "\n",
    "hull = cv2.convexHull(contour) # 윤곽선 찾기\n",
    "hull = hull.reshape(1, hull.shape[0], hull.shape[2])\n",
    "cv2.drawContours(img3, hull, -1, (0, 0, 255), 2)\n",
    "\n",
    "cv2.imshow('Horse with Approx Contours and Hull', img3)\n",
    "\n",
    "cv2.waitKey(0)\n",
    "cv2.destroyAllWindows()\n"
   ]
  },
  {
   "cell_type": "code",
   "execution_count": null,
   "metadata": {},
   "outputs": [],
   "source": []
  }
 ],
 "metadata": {
  "kernelspec": {
   "display_name": "Python 3",
   "language": "python",
   "name": "python3"
  },
  "language_info": {
   "codemirror_mode": {
    "name": "ipython",
    "version": 3
   },
   "file_extension": ".py",
   "mimetype": "text/x-python",
   "name": "python",
   "nbconvert_exporter": "python",
   "pygments_lexer": "ipython3",
   "version": "3.10.4"
  }
 },
 "nbformat": 4,
 "nbformat_minor": 2
}
