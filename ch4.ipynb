{
 "cells": [
  {
   "cell_type": "code",
   "execution_count": 17,
   "metadata": {},
   "outputs": [],
   "source": [
    "import cv2\n",
    "import skimage\n",
    "import numpy as np\n",
    "import time"
   ]
  },
  {
   "cell_type": "code",
   "execution_count": 3,
   "metadata": {},
   "outputs": [],
   "source": [
    "img = cv2.imread('test_image/soccer.jpg')\n",
    "\n",
    "gray = cv2.cvtColor(img, cv2.COLOR_BGR2GRAY)\n",
    "\n",
    "grad_x = cv2.Sobel(gray, cv2.CV_32F, 1, 0, ksize = 3)\n",
    "grad_y = cv2.Sobel(gray, cv2.CV_32F, 0, 1, ksize = 3)\n",
    "\n",
    "sobel_x = cv2.convertScaleAbs(grad_x)\n",
    "sobel_y = cv2.convertScaleAbs(grad_y)\n",
    "\n",
    "edge_strength = cv2.addWeighted(sobel_x, 0.5, sobel_y, 0.5, 0) # addWeighted ==> sobel_x, sobel_y 가중치 값 합치기.\n",
    "\n",
    "cv2.imshow('Original', gray)\n",
    "cv2.imshow('sobel_x', sobel_x)\n",
    "cv2.imshow('sobel_y', sobel_y)\n",
    "cv2.imshow('edge strength', edge_strength)\n",
    "\n",
    "cv2.waitKey()\n",
    "cv2.destroyAllWindows()"
   ]
  },
  {
   "cell_type": "code",
   "execution_count": 4,
   "metadata": {},
   "outputs": [],
   "source": [
    "canny1 = cv2.Canny(gray, 50, 150)\n",
    "canny2 = cv2.Canny(gray, 100, 200)\n",
    "\n",
    "cv2.imshow('original', gray)\n",
    "cv2.imshow('canny1', canny1)\n",
    "cv2.imshow('canny2', canny2)\n",
    "\n",
    "cv2.waitKey()\n",
    "cv2.destroyAllWindows()"
   ]
  },
  {
   "cell_type": "code",
   "execution_count": 7,
   "metadata": {},
   "outputs": [],
   "source": [
    "canny = cv2.Canny(gray, 100, 200)\n",
    "\n",
    "contour, hierarchy = cv2.findContours(canny, cv2.RETR_LIST, cv2.CHAIN_APPROX_NONE) # CHAIN_APPROX_NONE 이 모든 점 기록.\n",
    "\n",
    "lcontour = []\n",
    "\n",
    "for i in range(len(contour)):\n",
    "    if contour[i].shape[0] > 100: # 길이 50 이상인 것만. # 갔다가 오는 거 기록해서 100으로.\n",
    "        lcontour.append(contour[i])\n",
    "\n",
    "\n",
    "cv2.drawContours(img, lcontour, -1, (0,255,0), 3)\n",
    "\n",
    "\n",
    "cv2.imshow('original with contours', img)\n",
    "cv2.imshow('canny', canny)\n",
    "\n",
    "cv2.waitKey()\n",
    "cv2.destroyAllWindows()"
   ]
  },
  {
   "cell_type": "code",
   "execution_count": 13,
   "metadata": {},
   "outputs": [],
   "source": [
    "### 허프 변환 활용 명암 원 검출\n",
    "\n",
    "img = cv2.imread('test_image/apples.jpg')\n",
    "gray = cv2.cvtColor(img, cv2.COLOR_BGR2GRAY)\n",
    "\n",
    "apples = cv2.HoughCircles(gray, cv2.HOUGH_GRADIENT, 1, 200, param1 = 150, param2 = 20, minRadius = 50, maxRadius = 120)\n",
    "## 검출된 원들 사이 최소거리(원 사이 최소거리)=200, canny edge 임계값 = 150, 투표 임계값 = 20, 원 최소 반지름 50, 최대 반지름 120\n",
    "\n",
    "\n",
    "for i in apples[0]:\n",
    "    cv2.circle(img, (int(i[0]), int(i[1])), int(i[2]), (255, 0, 0), 2)\n",
    "\n",
    "cv2.imshow('Apple detection', img)\n",
    "\n",
    "cv2.waitKey()\n",
    "cv2.destroyAllWindows()"
   ]
  },
  {
   "cell_type": "code",
   "execution_count": 16,
   "metadata": {},
   "outputs": [],
   "source": [
    "img = skimage.data.coffee()\n",
    "cv2.imshow('coffee image', cv2.cvtColor(img, cv2.COLOR_RGB2BGR))\n",
    "\n",
    "slic1 = skimage.segmentation.slic(img, compactness = 20, n_segments = 600) # compactness ==> 모양새 조절. 높음 높을수록 다각형 모양.\n",
    "### 높으면 높을 수록 색상 균일성 딱 안 좋아짐.\n",
    "sp_img1 = skimage.segmentation.mark_boundaries(img, slic1)\n",
    "sp_img1 = np.uint8(sp_img1 * 255.0)\n",
    "\n",
    "slic2 = skimage.segmentation.slic(img, compactness = 40, n_segments = 600)\n",
    "sp_img2 = skimage.segmentation.mark_boundaries(img, slic2)\n",
    "sp_img2 = np.uint8(sp_img2 * 255.0)\n",
    "\n",
    "cv2.imshow('super pixels (compact-20)', cv2.cvtColor(sp_img1, cv2.COLOR_RGB2BGR))\n",
    "cv2.imshow('Super pixels (compact-40)', cv2.cvtColor(sp_img2, cv2.COLOR_RGB2BGR))\n",
    "\n",
    "cv2.waitKey()\n",
    "cv2.destroyAllWindows()"
   ]
  },
  {
   "cell_type": "code",
   "execution_count": 24,
   "metadata": {},
   "outputs": [
    {
     "name": "stdout",
     "output_type": "stream",
     "text": [
      "(400, 600, 3) 분할하는데 걸리는 시간  6.349429368972778\n"
     ]
    }
   ],
   "source": [
    "coffee = skimage.data.coffee()\n",
    "\n",
    "start = time.time()\n",
    "slic = skimage.segmentation.slic(coffee, compactness = 20, n_segments = 600, start_label = 1)\n",
    "\n",
    "g = skimage.graph.rag_mean_color(coffee, slic, mode = 'similarity')\n",
    "ncut = skimage.graph.cut_normalized(slic, g) # ncut 사용 최적화.\n",
    "print(coffee.shape, '분할하는데 걸리는 시간 ', time.time() - start)\n",
    "\n",
    "marking = skimage.segmentation.mark_boundaries(coffee, ncut)\n",
    "ncut_coffee = np.uint8(marking * 255.0)\n",
    "\n",
    "cv2.imshow('normalized cut', cv2.cvtColor(ncut_coffee, cv2.COLOR_RGB2BGR))\n",
    "\n",
    "cv2.waitKey()\n",
    "cv2.destroyAllWindows()\n",
    "\n",
    "### 영역 분할 결과물 보면 스푼 쪽 좀 많이 요상함. 색상 단위로만 봐서 쫌 맛이 가 있음.\n",
    "# 그래서 딥러닝으로 갔다."
   ]
  },
  {
   "cell_type": "code",
   "execution_count": null,
   "metadata": {},
   "outputs": [],
   "source": []
  }
 ],
 "metadata": {
  "kernelspec": {
   "display_name": "Python 3",
   "language": "python",
   "name": "python3"
  },
  "language_info": {
   "codemirror_mode": {
    "name": "ipython",
    "version": 3
   },
   "file_extension": ".py",
   "mimetype": "text/x-python",
   "name": "python",
   "nbconvert_exporter": "python",
   "pygments_lexer": "ipython3",
   "version": "3.10.4"
  }
 },
 "nbformat": 4,
 "nbformat_minor": 2
}
